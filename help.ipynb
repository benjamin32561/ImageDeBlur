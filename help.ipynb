{
 "cells": [
  {
   "cell_type": "code",
   "execution_count": 1,
   "metadata": {},
   "outputs": [
    {
     "data": {
      "text/plain": [
       "['--config',\n",
       " './checkpoints/bit_adobe240/cfg.yaml',\n",
       " '--checkpoint',\n",
       " './checkpoints/bit_adobe240/latest.ckpt',\n",
       " '--img_pre',\n",
       " './demo/00777.png',\n",
       " '--img_cur',\n",
       " './demo/00785.png',\n",
       " '--save_dir',\n",
       " './demo/bit_results/']"
      ]
     },
     "execution_count": 1,
     "metadata": {},
     "output_type": "execute_result"
    }
   ],
   "source": [
    "x = \"--config ./checkpoints/bit_adobe240/cfg.yaml --checkpoint ./checkpoints/bit_adobe240/latest.ckpt --img_pre ./demo/00777.png --img_cur ./demo/00785.png --save_dir ./demo/bit_results/\"\n",
    "x.split(' ')"
   ]
  }
 ],
 "metadata": {
  "kernelspec": {
   "display_name": "BiT",
   "language": "python",
   "name": "python3"
  },
  "language_info": {
   "codemirror_mode": {
    "name": "ipython",
    "version": 3
   },
   "file_extension": ".py",
   "mimetype": "text/x-python",
   "name": "python",
   "nbconvert_exporter": "python",
   "pygments_lexer": "ipython3",
   "version": "3.8.19"
  }
 },
 "nbformat": 4,
 "nbformat_minor": 2
}
